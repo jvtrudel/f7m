{
 "cells": [
  {
   "cell_type": "code",
   "execution_count": 1,
   "metadata": {
    "collapsed": false
   },
   "outputs": [
    {
     "data": {
      "text/markdown": [
       "\n",
       "#Il faudra apprendre le binaire!\n",
       "\n",
       "Il était une fois un monde où vivait des humains et des robots. Les humains et les robots travaillaient ensembles dans les villes, dans les champs et dans les usines. Mais, le soir venu, ils rentraient chacuns dans leurs quartiers respectifs: les uns dans les quartiers pour humains et les autres dans les quartiers pour robots. Jamais les deux groupes ne se mélangeaient.\n",
       "\n",
       "Il y avait des écoles pour les petites filles et pour les petits garçons, mais les robots ne pouvaient pas y aller. Marguerite se demandait souvent à quoi ressemblait les écoles des petits robots: comment leur classes sont décorées, si leurs enseignants sont sévères ou gentils, à quoi ils jouent pendant la récréation... etc, etc.\n",
       "\n",
       "Ses amies la trouvait bien bizarre lorsque Marguerite pensait à ce genre de chose. Presque personne n'avait jamais vu de vrai robot et encore moins des enfants robots. De toute façon, on disait que c'était interdit de jouer avec des robots, que ça pouvait être dangereux. Alors tous les camarades de classe de Marguerite en avaient peur.\n",
       "\n",
       "Enfin, presque tous... Acajou, lui, disait qu'il savait où l'on pouvait trouver des robots. Acajou c'était le petit garçon à lunette qui trainait toujours à la bibliothécaire. Mme Denise, la bibliothécaire, devait le sortir de force à la fermeture. Même qu'une fois, il a passé la nuit entre les rayons parce que Mme Denyse avait oublié de regarder dans tous les recoins. Il était très rare de voir Acajou sans un gros livre sous le bras; on aurait dit qu'il avait peur de s'ennuyer sans eux.\n",
       "\n",
       "Aujoud'hui, Marguerite n'en pouvait plus! Elle voulait savoir, elle voulait voir et, plus que toute autre chose, elle voulait parler à un robot. Alors, elle pris son courage d'une main et elle pris sa curiosité de l'autre, puis Marguerite alla demander à Acajou où elle pourrait trouvé un robot.\n",
       "\n",
       "«Ha ha ha! Trouver un robot? C'est facile! », répondit le binoclard. «Il y a une école de robot juste en face, de l'autre côté de la rue. Mais leurs récréations et la fin des classes sont décalé de 10 minutes par rapport aux nôtres. Comme ça, on ne les voit jamais.»\n",
       "\n",
       "Les yeux de Marguerite s'illuminairent. Elle comprit instantannément qu'elle n'avait qu'à manquer l'autobus ce soir et à attendre 10 minutes devant son école. Les robots sortiraient à leur tour et elle pourrait enfin les voir! Et, qui sait, peut-être réussirait-elle à leur dire bonjour.\n",
       "\n",
       "Alors que Marguerite allait s'envoler de joie, Acajou la ramena sur Terre. «Ce qui est plus difficile par contre, c'est de leur parler. Ils sont très bizarres, il faut toujours tout leur expliquer... Mais tiens! Si tu veux absolument leur parler, il faudra apprendre le binaire. Je te prête le vieux manuel de Scout de ma grand-mère. Tout y est expliqué à la page 1019.»\n",
       "\n",
       "Le bi-quoi? Peut importe. Marguerite doit absolument apprendre le binaire avant la fin de la journée. Vite! il ne reste que 30 minutes avant que la cloche ne sonne.\n",
       "\n",
       "\n",
       "## Apprendre le binaire\n",
       "_(Manuel du bon petit Scout, section Connaitre les bêtes sauvages, page 1019)_\n",
       "\n",
       "Si vous rencontrez un dangereux robot affamé dans un boisé ou dans la forêt, racontez-lui une blague en binaire. Vous constaterez qu'ils sont facile à apprivoiser et que, contrairement aux apparences, ils ne sont pas si bêtes et farouches.\n",
       "\n",
       "### Quelques règles à suivre\n",
       "\n",
       "  - On lit le binaire de droite à gauche.\n",
       "  - Il faut s'imaginer que chaque chiffre représente une case.\n",
       "  - La valeur de la case la plus à droite est 1.\n",
       "  - Lorsque l'on se déplace d'une case vers la gauche, il faut multiplier par 2 la valeur de la case précédente. Ceci donne:\n",
       "      ..., 16, 8, 4, 2, 1\n",
       "  - Il n'y a que 2 chiffres en binaire 0 ou 1.\n",
       "  - Si la chiffre dans une case est 1, on compte sa valeur. Si le chiffre est 0, on ne le compte pas.\n",
       "  \n",
       "### Exemples\n",
       "\n",
       "    binaire : 00001\n",
       "    base10:  0x16+0x8+0x4+0x2+1x1 = 1\n",
       "\n",
       "\n",
       "    binaire : 01000\n",
       "    base10:  0x16+1x8+0x4+0x2+0x1 = 8\n",
       "\n",
       "    binaire : 00110\n",
       "    base10:  0x16+0x8+1x4+1x2+0x1 = 6\n"
      ],
      "text/plain": [
       "<IPython.core.display.Markdown object>"
      ]
     },
     "execution_count": 1,
     "metadata": {},
     "output_type": "execute_result"
    }
   ],
   "source": [
    "from f7m import histoire1\n",
    "histoire1.md()"
   ]
  },
  {
   "cell_type": "markdown",
   "metadata": {},
   "source": [
    "# Exemple d'activité de vérification par ordinateur"
   ]
  },
  {
   "cell_type": "code",
   "execution_count": 1,
   "metadata": {
    "collapsed": true
   },
   "outputs": [],
   "source": [
    "from f7m import binaire    # importer l'outil binaire"
   ]
  },
  {
   "cell_type": "code",
   "execution_count": 2,
   "metadata": {
    "collapsed": false
   },
   "outputs": [],
   "source": [
    "a=binaire(\"00001\")  # Entrer un nombre binaire\n",
    "b=binaire(\"00100\")  # Entrer un second nombre binaire\n",
    "c=a+b  # Additionner deux binaires"
   ]
  },
  {
   "cell_type": "code",
   "execution_count": 3,
   "metadata": {
    "collapsed": false
   },
   "outputs": [
    {
     "name": "stdout",
     "output_type": "stream",
     "text": [
      "00000001\n",
      "00000100\n",
      "00000101\n"
     ]
    }
   ],
   "source": [
    "# Afficher les nombres binaires\n",
    "print(a)\n",
    "print(b)\n",
    "print(c)"
   ]
  },
  {
   "cell_type": "code",
   "execution_count": 4,
   "metadata": {
    "collapsed": false
   },
   "outputs": [
    {
     "name": "stdout",
     "output_type": "stream",
     "text": [
      "1\n",
      "4\n",
      "5\n"
     ]
    }
   ],
   "source": [
    "# Afficher les nombres en base 10\n",
    "print(a.base10)\n",
    "print(b.base10)\n",
    "print(c.base10)"
   ]
  },
  {
   "cell_type": "markdown",
   "metadata": {},
   "source": [
    "# Faites la même chose avec d'autres nombres "
   ]
  },
  {
   "cell_type": "code",
   "execution_count": 5,
   "metadata": {
    "collapsed": true
   },
   "outputs": [],
   "source": [
    "a=binaire(\"10101\")\n",
    "b=binaire(\"00101\")\n",
    "c=a+b"
   ]
  },
  {
   "cell_type": "code",
   "execution_count": 6,
   "metadata": {
    "collapsed": false
   },
   "outputs": [
    {
     "name": "stdout",
     "output_type": "stream",
     "text": [
      "00011010\n"
     ]
    }
   ],
   "source": [
    "print(c)"
   ]
  },
  {
   "cell_type": "code",
   "execution_count": 7,
   "metadata": {
    "collapsed": false
   },
   "outputs": [
    {
     "name": "stdout",
     "output_type": "stream",
     "text": [
      "21\n"
     ]
    }
   ],
   "source": [
    "print(a.base10)"
   ]
  },
  {
   "cell_type": "code",
   "execution_count": 8,
   "metadata": {
    "collapsed": false
   },
   "outputs": [
    {
     "name": "stdout",
     "output_type": "stream",
     "text": [
      "5\n"
     ]
    }
   ],
   "source": [
    "print(b.base10)"
   ]
  },
  {
   "cell_type": "code",
   "execution_count": 9,
   "metadata": {
    "collapsed": false
   },
   "outputs": [
    {
     "name": "stdout",
     "output_type": "stream",
     "text": [
      "26\n"
     ]
    }
   ],
   "source": [
    "print(c.base10)"
   ]
  },
  {
   "cell_type": "code",
   "execution_count": null,
   "metadata": {
    "collapsed": true
   },
   "outputs": [],
   "source": []
  }
 ],
 "metadata": {
  "kernelspec": {
   "display_name": "Python 3",
   "language": "python",
   "name": "python3"
  },
  "language_info": {
   "codemirror_mode": {
    "name": "ipython",
    "version": 3
   },
   "file_extension": ".py",
   "mimetype": "text/x-python",
   "name": "python",
   "nbconvert_exporter": "python",
   "pygments_lexer": "ipython3",
   "version": "3.4.3"
  }
 },
 "nbformat": 4,
 "nbformat_minor": 0
}
